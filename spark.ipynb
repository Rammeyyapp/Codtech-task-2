{
 "cells": [
  {
   "cell_type": "code",
   "execution_count": 1,
   "id": "44488950-2602-4aec-a578-5abbfa47df57",
   "metadata": {},
   "outputs": [],
   "source": [
    "from pyspark.sql import SparkSession"
   ]
  },
  {
   "cell_type": "code",
   "execution_count": 7,
   "id": "abf10806-4cc7-4bdc-b3ab-8f966646dfeb",
   "metadata": {},
   "outputs": [],
   "source": [
    "spark =SparkSession.\\\n",
    "builder.\\\n",
    "appName(\"Sparksql\").\\\n",
    "getOrCreate()"
   ]
  },
  {
   "cell_type": "code",
   "execution_count": 9,
   "id": "6b59bb09-5757-466d-8af5-8b1919db17de",
   "metadata": {},
   "outputs": [
    {
     "name": "stdout",
     "output_type": "stream",
     "text": [
      "3.5.3\n"
     ]
    }
   ],
   "source": [
    "print(spark.version)"
   ]
  },
  {
   "cell_type": "code",
   "execution_count": 11,
   "id": "608c7e0c-15ec-4ac9-8245-b9728d15c281",
   "metadata": {},
   "outputs": [],
   "source": [
    "data=spark.read.format(\"csv\").\\\n",
    "option(\"infer schema\",\"true\").\\\n",
    "option(\"Header\",\"true\").\\\n",
    "option(\"path\",\"iris.csv\").\\\n",
    "load()"
   ]
  },
  {
   "cell_type": "code",
   "execution_count": 15,
   "id": "4717c4ac-ea0f-4ed4-9d70-bd13ac2dcce8",
   "metadata": {},
   "outputs": [
    {
     "name": "stdout",
     "output_type": "stream",
     "text": [
      "root\n",
      " |-- sepal_length: string (nullable = true)\n",
      " |-- sepal_width: string (nullable = true)\n",
      " |-- petal_length: string (nullable = true)\n",
      " |-- petal_width: string (nullable = true)\n",
      " |-- species: string (nullable = true)\n",
      "\n"
     ]
    }
   ],
   "source": [
    "data.printSchema()"
   ]
  },
  {
   "cell_type": "code",
   "execution_count": 29,
   "id": "1639a523-7999-4fa8-86fd-43e516f894f3",
   "metadata": {},
   "outputs": [],
   "source": [
    "#dataframe api\n",
    "from pyspark.sql.functions import col,desc\n",
    "\n",
    "data_2=data.select(\"sepal_length\",\"species\").\\\n",
    "filter(col(\"sepal_length\") >5.0).\\\n",
    "orderBy(desc(\"sepal_length\"))"
   ]
  },
  {
   "cell_type": "code",
   "execution_count": 31,
   "id": "0e54ef67-7f41-4927-b603-5a95d87f3243",
   "metadata": {},
   "outputs": [
    {
     "name": "stdout",
     "output_type": "stream",
     "text": [
      "root\n",
      " |-- sepal_length: string (nullable = true)\n",
      " |-- species: string (nullable = true)\n",
      "\n"
     ]
    }
   ],
   "source": [
    "data_2.printSchema()"
   ]
  },
  {
   "cell_type": "code",
   "execution_count": 33,
   "id": "f82c3de9-ed9c-4b6b-868c-eefe83923dcd",
   "metadata": {},
   "outputs": [
    {
     "name": "stdout",
     "output_type": "stream",
     "text": [
      "+------------+----------+\n",
      "|sepal_length|   species|\n",
      "+------------+----------+\n",
      "|         7.9| virginica|\n",
      "|         7.7| virginica|\n",
      "|         7.7| virginica|\n",
      "|         7.7| virginica|\n",
      "|         7.7| virginica|\n",
      "|         7.6| virginica|\n",
      "|         7.4| virginica|\n",
      "|         7.3| virginica|\n",
      "|         7.2| virginica|\n",
      "|         7.2| virginica|\n",
      "|         7.2| virginica|\n",
      "|         7.1| virginica|\n",
      "|         7.0|versicolor|\n",
      "|         6.9|versicolor|\n",
      "|         6.9| virginica|\n",
      "|         6.9| virginica|\n",
      "|         6.9| virginica|\n",
      "|         6.8|versicolor|\n",
      "|         6.8| virginica|\n",
      "|         6.8| virginica|\n",
      "+------------+----------+\n",
      "only showing top 20 rows\n",
      "\n"
     ]
    }
   ],
   "source": [
    "data_2.show()"
   ]
  },
  {
   "cell_type": "code",
   "execution_count": 41,
   "id": "d909ce9a-34ee-433f-a5de-6e4235c8c526",
   "metadata": {},
   "outputs": [
    {
     "name": "stdout",
     "output_type": "stream",
     "text": [
      "+------------+----------+\n",
      "|sepal_length|   species|\n",
      "+------------+----------+\n",
      "|         7.9| virginica|\n",
      "|         7.7| virginica|\n",
      "|         7.7| virginica|\n",
      "|         7.7| virginica|\n",
      "|         7.7| virginica|\n",
      "|         7.6| virginica|\n",
      "|         7.4| virginica|\n",
      "|         7.3| virginica|\n",
      "|         7.2| virginica|\n",
      "|         7.2| virginica|\n",
      "|         7.2| virginica|\n",
      "|         7.1| virginica|\n",
      "|         7.0|versicolor|\n",
      "|         6.9|versicolor|\n",
      "|         6.9| virginica|\n",
      "|         6.9| virginica|\n",
      "|         6.9| virginica|\n",
      "|         6.8|versicolor|\n",
      "|         6.8| virginica|\n",
      "|         6.8| virginica|\n",
      "+------------+----------+\n",
      "only showing top 20 rows\n",
      "\n"
     ]
    }
   ],
   "source": [
    "#Spark sql\n",
    "data_2.createOrReplaceTempView(\"data\")\n",
    "spark.sql(\"\"\"\n",
    "SELECT sepal_length,species From data \n",
    "WHERE sepal_length >5.0\"\"\").show()"
   ]
  },
  {
   "cell_type": "code",
   "execution_count": 51,
   "id": "6107cdc9-dad1-4d8c-8bc4-05b2da3dce1c",
   "metadata": {},
   "outputs": [
    {
     "name": "stdout",
     "output_type": "stream",
     "text": [
      "Correlation matrix:\n",
      " DenseMatrix([[ 1.        , -0.11756978,  0.87175378,  0.81794113],\n",
      "             [-0.11756978,  1.        , -0.4284401 , -0.36612593],\n",
      "             [ 0.87175378, -0.4284401 ,  1.        ,  0.96286543],\n",
      "             [ 0.81794113, -0.36612593,  0.96286543,  1.        ]])\n"
     ]
    }
   ],
   "source": [
    "from pyspark.ml.feature import VectorAssembler\n",
    "from pyspark.ml.stat import Correlation\n",
    "from pyspark.sql.types import DoubleType\n",
    "\n",
    "# Convert columns to DoubleType if they are not already\n",
    "data = data.withColumn(\"sepal_length\", col(\"sepal_length\").cast(DoubleType())) \\\n",
    "           .withColumn(\"sepal_width\", col(\"sepal_width\").cast(DoubleType())) \\\n",
    "           .withColumn(\"petal_length\", col(\"petal_length\").cast(DoubleType())) \\\n",
    "           .withColumn(\"petal_width\", col(\"petal_width\").cast(DoubleType()))\n",
    "\n",
    "# Combine numerical features into a single vector column\n",
    "assembler = VectorAssembler(inputCols=[\"sepal_length\", \"sepal_width\", \"petal_length\", \"petal_width\"], outputCol=\"features\")\n",
    "data_vector = assembler.transform(data)\n",
    "\n",
    "# Compute the correlation matrix\n",
    "correlation_matrix = Correlation.corr(data_vector, \"features\").head()\n",
    "print(\"Correlation matrix:\\n\", correlation_matrix[0])\n"
   ]
  },
  {
   "cell_type": "code",
   "execution_count": 45,
   "id": "11c81402-faa8-43fa-ae7b-cd67622dea15",
   "metadata": {},
   "outputs": [
    {
     "name": "stdout",
     "output_type": "stream",
     "text": [
      "+----------+------------------+------------------+-----------------+------------------+\n",
      "|   species|  avg(sepal_width)|  avg(petal_width)|avg(sepal_length)| avg(petal_length)|\n",
      "+----------+------------------+------------------+-----------------+------------------+\n",
      "| virginica|2.9739999999999998|             2.026|6.587999999999998|             5.552|\n",
      "|versicolor|2.7700000000000005|1.3259999999999998|            5.936|              4.26|\n",
      "|    setosa| 3.428000000000001|0.2459999999999999|5.005999999999999|1.4620000000000002|\n",
      "+----------+------------------+------------------+-----------------+------------------+\n",
      "\n"
     ]
    }
   ],
   "source": [
    "data.groupBy(\"species\") \\\n",
    "    .agg(\n",
    "        {\"sepal_length\": \"avg\", \"petal_length\": \"avg\", \"sepal_width\": \"avg\", \"petal_width\": \"avg\"}\n",
    "    ).show()\n"
   ]
  },
  {
   "cell_type": "code",
   "execution_count": 47,
   "id": "0cb6cb75-f16b-480c-8738-86167ee34def",
   "metadata": {},
   "outputs": [
    {
     "name": "stdout",
     "output_type": "stream",
     "text": [
      "+------------+-----------+------------+-----------+---------+\n",
      "|sepal_length|sepal_width|petal_length|petal_width|  species|\n",
      "+------------+-----------+------------+-----------+---------+\n",
      "|         7.1|        3.0|         5.9|        2.1|virginica|\n",
      "|         7.6|        3.0|         6.6|        2.1|virginica|\n",
      "|         7.3|        2.9|         6.3|        1.8|virginica|\n",
      "|         7.2|        3.6|         6.1|        2.5|virginica|\n",
      "|         7.7|        3.8|         6.7|        2.2|virginica|\n",
      "|         7.7|        2.6|         6.9|        2.3|virginica|\n",
      "|         7.7|        2.8|         6.7|        2.0|virginica|\n",
      "|         7.2|        3.2|         6.0|        1.8|virginica|\n",
      "|         7.2|        3.0|         5.8|        1.6|virginica|\n",
      "|         7.4|        2.8|         6.1|        1.9|virginica|\n",
      "|         7.9|        3.8|         6.4|        2.0|virginica|\n",
      "|         7.7|        3.0|         6.1|        2.3|virginica|\n",
      "+------------+-----------+------------+-----------+---------+\n",
      "\n"
     ]
    }
   ],
   "source": [
    "data.filter((col(\"sepal_length\") > 6) & (col(\"petal_width\") > 1.5)).show()\n"
   ]
  },
  {
   "cell_type": "code",
   "execution_count": 49,
   "id": "67f5cf01-00d1-4eef-8262-e3df2144a7a1",
   "metadata": {},
   "outputs": [
    {
     "name": "stdout",
     "output_type": "stream",
     "text": [
      "+----------+-------------------+-------------------+--------------------+--------------------+\n",
      "|   species|stddev(sepal_width)|stddev(petal_width)|stddev(sepal_length)|stddev(petal_length)|\n",
      "+----------+-------------------+-------------------+--------------------+--------------------+\n",
      "| virginica| 0.3224966381726375| 0.2746500556366674|   0.635879593274432|  0.5518946956639833|\n",
      "|versicolor| 0.3137983233784114|0.19775268000454407|  0.5161711470638635|  0.4699109772399579|\n",
      "|    setosa| 0.3790643690962886|0.10538558938004565|  0.3524896872134513|  0.1736639964801841|\n",
      "+----------+-------------------+-------------------+--------------------+--------------------+\n",
      "\n"
     ]
    }
   ],
   "source": [
    "data.groupBy(\"species\").agg(\n",
    "    {\"sepal_length\": \"stddev\", \"sepal_width\": \"stddev\", \"petal_length\": \"stddev\", \"petal_width\": \"stddev\"}\n",
    ").show()\n"
   ]
  },
  {
   "cell_type": "code",
   "execution_count": 53,
   "id": "e7af48ed-affb-4acb-97d9-618f8500eec4",
   "metadata": {},
   "outputs": [],
   "source": [
    "from pyspark.sql.functions import expr\n",
    "\n",
    "# Example: Calculate ratio of petal length to petal width as a new feature\n",
    "data = data.withColumn(\"petal_length_to_width_ratio\", expr(\"petal_length / petal_width\"))\n"
   ]
  },
  {
   "cell_type": "code",
   "execution_count": 55,
   "id": "c890c5d8-2c01-41de-b8e8-910c1cce5179",
   "metadata": {},
   "outputs": [
    {
     "data": {
      "text/plain": [
       "DataFrame[sepal_length: double, sepal_width: double, petal_length: double, petal_width: double, species: string, petal_length_to_width_ratio: double]"
      ]
     },
     "execution_count": 55,
     "metadata": {},
     "output_type": "execute_result"
    }
   ],
   "source": [
    "data"
   ]
  },
  {
   "cell_type": "code",
   "execution_count": 57,
   "id": "aef72dc2-1513-47f7-bce6-454f772d2935",
   "metadata": {},
   "outputs": [
    {
     "name": "stdout",
     "output_type": "stream",
     "text": [
      "+-------+----------+\n",
      "|species|prediction|\n",
      "+-------+----------+\n",
      "| setosa|         1|\n",
      "| setosa|         1|\n",
      "| setosa|         1|\n",
      "| setosa|         1|\n",
      "| setosa|         1|\n",
      "| setosa|         1|\n",
      "| setosa|         1|\n",
      "| setosa|         1|\n",
      "| setosa|         1|\n",
      "| setosa|         1|\n",
      "+-------+----------+\n",
      "only showing top 10 rows\n",
      "\n"
     ]
    }
   ],
   "source": [
    "from pyspark.ml.clustering import KMeans\n",
    "from pyspark.ml.feature import VectorAssembler\n",
    "\n",
    "# Assemble features into a vector\n",
    "assembler = VectorAssembler(inputCols=[\"sepal_length\", \"sepal_width\", \"petal_length\", \"petal_width\"], outputCol=\"features\")\n",
    "data_vector = assembler.transform(data)\n",
    "\n",
    "# Apply KMeans clustering\n",
    "kmeans = KMeans(k=3, seed=1)  # k=3 for the three Iris species\n",
    "model = kmeans.fit(data_vector)\n",
    "predictions = model.transform(data_vector)\n",
    "predictions.select(\"species\", \"prediction\").show(10)  # View cluster assignments\n"
   ]
  },
  {
   "cell_type": "code",
   "execution_count": 59,
   "id": "c0bd4d65-4621-47fe-9b91-13b6674bb8c2",
   "metadata": {},
   "outputs": [
    {
     "name": "stdout",
     "output_type": "stream",
     "text": [
      "+--------------------+\n",
      "|         pcaFeatures|\n",
      "+--------------------+\n",
      "|[-2.8182395066394...|\n",
      "|[-2.7882234453146...|\n",
      "|[-2.6133745635497...|\n",
      "|[-2.7570222769675...|\n",
      "|[-2.7736485960544...|\n",
      "+--------------------+\n",
      "only showing top 5 rows\n",
      "\n"
     ]
    }
   ],
   "source": [
    "from pyspark.ml.feature import PCA\n",
    "\n",
    "pca = PCA(k=2, inputCol=\"features\", outputCol=\"pcaFeatures\")\n",
    "pca_model = pca.fit(data_vector)\n",
    "result = pca_model.transform(data_vector)\n",
    "result.select(\"pcaFeatures\").show(5)\n"
   ]
  },
  {
   "cell_type": "code",
   "execution_count": 61,
   "id": "91be6ccd-72d3-4185-aded-e41caf4de29d",
   "metadata": {},
   "outputs": [
    {
     "name": "stdout",
     "output_type": "stream",
     "text": [
      "Accuracy: 1.0\n"
     ]
    }
   ],
   "source": [
    "from pyspark.ml.classification import LogisticRegression\n",
    "from pyspark.ml.evaluation import MulticlassClassificationEvaluator\n",
    "\n",
    "# Prepare the data by encoding labels\n",
    "from pyspark.ml.feature import StringIndexer\n",
    "indexer = StringIndexer(inputCol=\"species\", outputCol=\"label\")\n",
    "data_indexed = indexer.fit(data_vector).transform(data_vector)\n",
    "\n",
    "# Split data into training and test sets\n",
    "train, test = data_indexed.randomSplit([0.8, 0.2], seed=1234)\n",
    "\n",
    "# Train logistic regression model\n",
    "lr = LogisticRegression(featuresCol=\"features\", labelCol=\"label\")\n",
    "lr_model = lr.fit(train)\n",
    "predictions = lr_model.transform(test)\n",
    "\n",
    "# Evaluate the model\n",
    "evaluator = MulticlassClassificationEvaluator(labelCol=\"label\", predictionCol=\"prediction\", metricName=\"accuracy\")\n",
    "accuracy = evaluator.evaluate(predictions)\n",
    "print(f\"Accuracy: {accuracy}\")\n"
   ]
  },
  {
   "cell_type": "code",
   "execution_count": null,
   "id": "37bf2095-3e89-4caa-90b1-063ca8b6a67f",
   "metadata": {},
   "outputs": [],
   "source": []
  }
 ],
 "metadata": {
  "kernelspec": {
   "display_name": "Python 3 (ipykernel)",
   "language": "python",
   "name": "python3"
  },
  "language_info": {
   "codemirror_mode": {
    "name": "ipython",
    "version": 3
   },
   "file_extension": ".py",
   "mimetype": "text/x-python",
   "name": "python",
   "nbconvert_exporter": "python",
   "pygments_lexer": "ipython3",
   "version": "3.11.7"
  }
 },
 "nbformat": 4,
 "nbformat_minor": 5
}
